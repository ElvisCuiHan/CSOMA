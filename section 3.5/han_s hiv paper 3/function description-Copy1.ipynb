{
 "cells": [
  {
   "cell_type": "markdown",
   "metadata": {},
   "source": [
    "$$y_{ij}|\\boldsymbol{\\theta}_i, t_j, \\sigma^2 \\sim \\mathcal{N}(s(\\boldsymbol{\\theta}_i, t_j), \\sigma^2),\\; j=1,\\cdots, n,$$\n",
    "\n",
    "where \n",
    "\n",
    "$$s(\\boldsymbol{\\theta}_i, t_j) = \\theta_{i1} + \\log[\\frac{e^{2\\theta_{i2}-e^{\\theta_{i3}}t_j}}{(e^{\\theta_{i2}}-e^{\\theta_{i3}})^2}-\\frac{e^{2\\theta_{i2}}-(e^{\\theta_{i2}}-e^{\\theta_{i3}})^2}{(e^{\\theta_{i2}}-e^{\\theta_{i3}})^2}e^{-e^{\\theta_{i2}}t_j} - \\frac{e^{\\theta_{i2}+\\theta_{i3}}t_j}{e^{\\theta_{i2}}-e^{\\theta_{i3}}}e^{-e^{\\theta_{i2}}t_j}],$$"
   ]
  },
  {
   "cell_type": "markdown",
   "metadata": {},
   "source": [
    "\n",
    "$$\\boldsymbol{\\theta}_i|\\boldsymbol{\\mu}, \\boldsymbol{\\Sigma} \\sim \\mathcal{N}(\\boldsymbol{\\mu}, \\boldsymbol{\\Sigma}),$$\n",
    "\n",
    "$$\\sigma^{-2} \\sim \\mathcal{G}(\\alpha, \\beta), $$\n",
    "\n",
    "$$\\boldsymbol{\\mu} \\sim \\mathcal{N}(\\boldsymbol{\\eta}, \\boldsymbol{\\Lambda}),$$\n",
    "\n",
    "$$\\boldsymbol{\\Sigma}^{-1} \\sim \\mathcal{W}(\\boldsymbol{\\Omega}, \\gamma).$$\n",
    "\n",
    "### Objective: find a vector $\\mathbf{t}$ minimize $\\mathbf{E}[\\mathbf{Var}(\\mu_{i2}|\\mathbf{y})]$."
   ]
  },
  {
   "cell_type": "markdown",
   "metadata": {},
   "source": [
    "Define function $F_1$($\\mathbf{t}$, $\\mathbf{y}_i$, $\\boldsymbol{\\mu}_l$, $\\boldsymbol{\\Sigma}_l^{-1}$, $\\sigma^2_l$, $k$) to calculate $f(\\mathbf{y}_i|\\boldsymbol{\\mu}_l, \\boldsymbol{\\Sigma}_l^{-1}, \\sigma^2_l)$.\n",
    "\n",
    "Input:\n",
    "\n",
    "$\\tiny\\bullet$ $\\mathbf{t}$: a $1\\times n$ vector represent $n$ selected time points;\n",
    "\n",
    "$\\tiny\\bullet$ $\\mathbf{y}_i$: an observation vector;\n",
    "\n",
    "$\\tiny\\bullet$ $\\boldsymbol{\\mu}_l$: a $1\\times 3$ vector;\n",
    "\n",
    "$\\tiny\\bullet$ $\\boldsymbol{\\Sigma}_l^{-1}$: a $3\\times 3$ matrix for generating $\\boldsymbol{\\theta}$ (inverse of  $\\boldsymbol{\\Sigma}_l$); \n",
    "\n",
    "$\\tiny\\bullet$ $\\sigma^2_l$: a scalar working as the variance for generating $\\mathbf{y}_i$;\n",
    "\n",
    "$\\tiny\\bullet$ $k$: the sampling size for  $\\boldsymbol{\\theta}$.\n",
    "\n",
    "Randomly sample $\\boldsymbol{\\theta}_1, \\;\\cdots, \\;\\boldsymbol{\\theta}_{k}$.\n",
    "\n",
    " \n",
    "\n",
    "$$\\begin{equation} \n",
    "\\begin{split}\n",
    "f(\\mathbf{y}_i|\\mathbf{\\mu}_l, \\boldsymbol{\\Sigma}_l^{-1}, \\sigma^2_l)&\\approx\\sum_{i=1}^{k}\\sum_{j=1}^n\\frac{f(y|\\boldsymbol{\\theta}_i, \\mathbf{t}_j, \\sigma^2_l)f(\\boldsymbol{\\theta}_i|\\boldsymbol{\\mu}_l, \\boldsymbol{\\Sigma}_l^{-1})}{kn} \\\\ \n",
    "&= \\sum_{i=1}^{k}\\frac{\\{\\prod^n_{j=1}\\frac{1}{\\sqrt{2\\pi}\\Sigma}_l\\exp\\{-\\frac{[\\mathbf{y}_{ij}-s(\\boldsymbol{\\theta}_i, \\mathbf{t}_j)]^2}{2\\sigma^2_l}\\}\\}\\frac{1}{\\sqrt{2\\pi}^3\\sqrt{|\\boldsymbol{\\Sigma}_l|}}\\exp\\{-\\frac{1}{2}(\\boldsymbol{\\theta}_i-\\boldsymbol{\\mu}_l)\\boldsymbol{\\Sigma}_l^{-1}(\\boldsymbol{\\theta}_i-\\boldsymbol{\\mu}_l)'\\}}{k} \\\\\n",
    "&= \\frac{1}{(2\\pi)^{\\frac{n+3}{2}}\\sigma^n\\sqrt{|\\boldsymbol{\\Sigma}_l|}k}\\sum_{i=1}^{k}\\exp\\{-\\sum^n_{j=1}\\{\\frac{[y-s(\\boldsymbol{\\theta}_i, \\mathbf{t}_j)]^2}{2\\sigma^2_l}\\}-\\frac{1}{2}(\\boldsymbol{\\theta}_i-\\boldsymbol{\\mu}_l)\\boldsymbol{\\Sigma}_l^{-1}(\\boldsymbol{\\theta}_i-\\boldsymbol{\\mu}_l)'\\} \\\\\n",
    "\\end{split}\n",
    "\\end{equation}$$"
   ]
  },
  {
   "cell_type": "markdown",
   "metadata": {},
   "source": [
    "Define function $F_2$($\\mathbf{t}$, $\\mathbf{y}_i$, $k$, $\\boldsymbol{\\Omega}$, $\\gamma$, $\\boldsymbol{\\eta}$, $\\boldsymbol{\\Lambda}$, $\\alpha$, $\\beta$, $N$) to calculate $\\mathbf{E}^2(\\mu_{l2}|\\mathbf{y}_i)$, where $\\mu_{l2}$ refers to the first element in $\\boldsymbol{\\mu}_l$. \n",
    "\n",
    "$$\\mathbf{E}[\\mathbf{Var}(\\mu_{l2}|\\mathbf{y}_i)] = \\mathbf{E}(\\mu_{l2}^2) - \\mathbf{E}[\\mathbf{E}^2(\\mu_{l2}|\\mathbf{y}_i)]$$\n",
    "\n",
    "Input:\n",
    "\n",
    "$\\tiny\\bullet$ $\\mathbf{t}$: a $1\\times n$ vector represent $n$ selected time points (pass to $F_1$);\n",
    "\n",
    "$\\tiny\\bullet$ $\\mathbf{y}_i$: a vector (pass to $F_1$);\n",
    "\n",
    "$\\tiny\\bullet$ $k$: the sampling size for  $\\boldsymbol{\\theta}$ (pass to $F_1$);\n",
    "\n",
    "$\\tiny\\bullet$ $\\boldsymbol{\\Omega}$: a $3\\times 3$ matrix for generating $\\boldsymbol{\\Sigma}^{-1}$;\n",
    "\n",
    "$\\tiny\\bullet$ $\\gamma$: a scalar for generating $\\boldsymbol{\\Sigma}^{-1}$;\n",
    "\n",
    "$\\tiny\\bullet$ $\\boldsymbol{\\eta}$: a $1\\times 3$ mean vector for generating $\\boldsymbol{\\mu}$;\n",
    "\n",
    "$\\tiny\\bullet$ $\\boldsymbol{\\Lambda}$: a $3\\times 3$ covariance matrix for generating $\\boldsymbol{\\mu}$; \n",
    "\n",
    "$\\tiny\\bullet$ $\\alpha$: a scalar for generating $\\sigma^{-2}$;\n",
    "\n",
    "$\\tiny\\bullet$ $\\beta$: a scalar for generating $\\sigma^{-2}$;\n",
    "\n",
    "$\\tiny\\bullet$ $N$: the sampling size for the hyperparameters.\n",
    "\n",
    "We first generate a sequence of $(\\boldsymbol{\\mu}_1, \\boldsymbol{\\Sigma}^{-1}_1, \\sigma^{-2}_1), \\;\\cdots, \\;(\\boldsymbol{\\mu}_{N}, \\boldsymbol{\\Sigma}^{-1}_{N}, \\sigma^{-2}_{N})$\n",
    "\n",
    "\n",
    "$$F_1(\\mathbf{y}_i, \\mathbf{t}, \\boldsymbol{\\mu}_l, \\boldsymbol{\\Sigma}_l, \\sigma^2_l, k) \\approx f(\\mathbf{y}_i|\\boldsymbol{\\mu}_l, \\boldsymbol{\\Sigma}^{-1}_l, \\sigma^2_l)$$\n",
    "\n",
    "$$\\begin{equation} \n",
    "\\begin{split}\n",
    "\\mathbf{E}(\\mu_{l2}|\\mathbf{y}_i)&\\approx \\frac{1}{f(\\mathbf{y}_i)N}\\sum_{l=1}^{N}F_1(\\mathbf{y}_i, \\mathbf{t}, \\boldsymbol{\\mu}_l, \\boldsymbol{\\Sigma}_l, \\sigma^2_l, k)f(\\boldsymbol{\\mu}_l,\\boldsymbol{\\Sigma}^{-1}_l, \\sigma_l^{-2})\\mu_{l2} \n",
    "\\end{split}\n",
    "\\end{equation}$$\n",
    "\n",
    "\n",
    "$$f(\\boldsymbol{\\mu}_l,\\boldsymbol{\\Sigma}^{-1}_l, \\sigma_l^{-2}) = \\frac{1}{\\sqrt{2\\pi}^3\\sqrt{|\\boldsymbol{\\Lambda}|}}\\exp[-\\frac{1}{2}(\\boldsymbol{\\mu}_l - \\boldsymbol{\\eta})\\boldsymbol{\\Lambda}^{-1}(\\boldsymbol{\\mu}_l - \\boldsymbol{\\eta})']\\frac{|\\boldsymbol{\\Sigma}_l^{-1}|^{\\frac{\\gamma-3-1}{2}}\\exp[-tr(\\boldsymbol{\\Omega}^{-1}\\boldsymbol{\\Sigma}_l^{-1})/2]}{2^{\\frac{3\\gamma}{2}}|\\boldsymbol{\\Omega}|^{\\frac{\\gamma}{2}}\\Gamma_3(\\frac{\\gamma}{2})}\\frac{1}{\\beta^\\alpha\\Gamma(\\alpha)}(\\sigma_l^{-2})^{\\alpha-1}\\exp(-\\frac{\\sigma_l^{-2}}{\\beta})$$\n",
    "\n",
    "\n",
    "\n",
    "$$\\Gamma_3(\\frac{\\gamma}{2}) = \\pi^{1.5}\\Gamma(\\frac{\\gamma}{2})\\Gamma(\\frac{\\gamma}{2}-0.5)\\Gamma(\\frac{\\gamma}{2}-1)$$"
   ]
  },
  {
   "cell_type": "markdown",
   "metadata": {},
   "source": [
    "Define function $F_3(\\mathbf{t}, S, k, N, \\cdots)$ to calculate $\\mathbf{E}[\\mathbf{Var}(\\mu_{l2}|\\mathbf{y}_i)]$. \n",
    "\n",
    "Input \n",
    "\n",
    "$\\tiny\\bullet$ $M$: the sampling size for $\\mathbf{y}_i$.\n",
    "\n",
    "We first generate a sequence of $\\mathbf{y}_1, \\;\\cdots, \\; \\mathbf{y}_M$ based on $\\mathbf{t}$ and hyperparameters inside $F_3$.   \n",
    "\n",
    "\n",
    "\n",
    "$$\\begin{equation} \n",
    "\\begin{split}\n",
    "\\mathbf{E}[\\mathbf{Var}(\\mu_{i2}|\\mathbf{y}_i)]&\\approx \\mathbf{E}(\\mu_{i2}^2) - \\frac{1}{M}\\sum^M_{m=1}\\frac{F^2_2(\\mathbf{y}_i,\\cdots)}{f(\\mathbf{y}_i)}\n",
    "\\end{split}\n",
    "\\end{equation}$$\n",
    "\n",
    "How to get $f(\\mathbf{y}_i) = \\prod^n_{j=1}f(y_{ij})$:\n",
    "\n",
    "1. Input a $\\mathbf{t}$ and other hyperparameters, we generate $\\mathbf{y}_1, \\;\\cdots, \\; \\mathbf{y}_M$.\n",
    "\n",
    "2. Assume $y_{i1},\\cdots,y_{in}$ come from the same 1-d normal distribution. Estimate their mean and variance and build the density function to approximate \n"
   ]
  },
  {
   "cell_type": "code",
   "execution_count": null,
   "metadata": {},
   "outputs": [],
   "source": []
  }
 ],
 "metadata": {
  "kernelspec": {
   "display_name": "Python 3",
   "language": "python",
   "name": "python3"
  },
  "language_info": {
   "codemirror_mode": {
    "name": "ipython",
    "version": 3
   },
   "file_extension": ".py",
   "mimetype": "text/x-python",
   "name": "python",
   "nbconvert_exporter": "python",
   "pygments_lexer": "ipython3",
   "version": "3.7.4"
  }
 },
 "nbformat": 4,
 "nbformat_minor": 2
}
