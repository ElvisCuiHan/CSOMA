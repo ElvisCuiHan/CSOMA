{
 "cells": [
  {
   "cell_type": "markdown",
   "metadata": {},
   "source": [
    "$$y_{ij}|\\boldsymbol{\\theta}_i, t_j, \\sigma^2 \\sim \\mathcal{N}(s(\\boldsymbol{\\theta}_i, t_j), \\sigma^2),\\; j=1,\\cdots, T,$$\n",
    "\n",
    "where \n",
    "\n",
    "$$s(\\boldsymbol{\\theta}_i, t_j) = \\theta_{i1} + \\log[\\frac{e^{2\\theta_{i2}-e^{\\theta_{i3}}t_j}}{(e^{\\theta_{i2}}-e^{\\theta_{i3}})^2}-\\frac{e^{2\\theta_{i2}}-(e^{\\theta_{i2}}-e^{\\theta_{i3}})^2}{(e^{\\theta_{i2}}-e^{\\theta_{i3}})^2}e^{-e^{\\theta_{i2}}t_j} - \\frac{e^{\\theta_{i2}+\\theta_{i3}}t_j}{e^{\\theta_{i2}}-e^{\\theta_{i3}}}e^{-e^{\\theta_{i2}}t_j}],$$"
   ]
  },
  {
   "cell_type": "markdown",
   "metadata": {},
   "source": [
    "\n",
    "$$\\boldsymbol{\\theta}_i|\\boldsymbol{\\mu}, \\boldsymbol{\\Sigma} \\sim \\mathcal{N}(\\boldsymbol{\\mu}, \\boldsymbol{\\Sigma}),$$\n",
    "\n",
    "$$\\sigma^{-2} \\sim \\mathcal{G}(\\alpha, \\beta), $$\n",
    "\n",
    "$$\\boldsymbol{\\mu} \\sim \\mathcal{N}(\\boldsymbol{\\eta}, \\boldsymbol{\\Lambda}),$$\n",
    "\n",
    "$$\\boldsymbol{\\Sigma}^{-1} \\sim \\mathcal{W}(\\boldsymbol{\\Omega}, \\gamma).$$\n",
    "\n",
    "### Objective: find a vector $\\mathbf{t}$ minimize $\\mathbf{E}[\\mathbf{Var}(\\mu_{i2}|\\mathbf{y})]$."
   ]
  },
  {
   "cell_type": "markdown",
   "metadata": {},
   "source": [
    "Define function $F_1$($\\mathbf{t}$, $\\mathbf{y}$, $\\boldsymbol{\\mu}$, $\\boldsymbol{\\Sigma}^{-1}$, $\\sigma^2$, $K$) to calculate $f(\\mathbf{y}|\\boldsymbol{\\mu}, \\boldsymbol{\\Sigma}^{-1}, \\sigma^{-2})$.\n",
    "\n",
    "Input:\n",
    "\n",
    "$\\tiny\\bullet$ $\\mathbf{t}$: a $1\\times T$ vector represent $n$ selected time points;\n",
    "\n",
    "$\\tiny\\bullet$ $\\mathbf{y}$: an observation vector of size $T$;\n",
    "\n",
    "$\\tiny\\bullet$ $\\boldsymbol{\\mu}$: a $1\\times 3$ vector;\n",
    "\n",
    "$\\tiny\\bullet$ $\\boldsymbol{\\Sigma}^{-1}$: a $3\\times 3$ matrix for generating $\\boldsymbol{\\theta}$ (inverse of  $\\boldsymbol{\\Sigma}$); \n",
    "\n",
    "$\\tiny\\bullet$ $\\sigma^{-2}$: a scalar working as the variance for generating $\\mathbf{y}$;\n",
    "\n",
    "$\\tiny\\bullet$ $K$: the sampling size for  $\\boldsymbol{\\theta}$.\n",
    "\n",
    "Randomly sample $\\boldsymbol{\\theta}_1, \\;\\cdots, \\;\\boldsymbol{\\theta}_{K}$ from $f(\\boldsymbol{\\theta}|\\boldsymbol{\\mu}, \\boldsymbol{\\Sigma}^{-1})$.\n",
    "\n",
    " \n",
    "\n",
    "$$\\begin{equation} \n",
    "\\begin{split}\n",
    "f(\\mathbf{y}|\\mathbf{\\mu}, \\boldsymbol{\\Sigma}^{-1}, \\sigma^{-2})&\\approx\\sum_{k=1}^{K}\\frac{f(\\mathbf{y}|\\boldsymbol{\\theta}_k, \\mathbf{t}, \\sigma^{-2})}{K}\\\\ \n",
    "&= \\sum_{k=1}^{K}\\frac{\\prod^T_{j=1}\\frac{1}{\\sqrt{2\\pi}\\sigma}\\exp\\{-\\frac{[y_{j}-s(\\boldsymbol{\\theta}_k, \\mathbf{t}_j)]^2}{2\\sigma^2}\\}}{K} \\\\\n",
    "&= \\frac{1}{(2\\pi)^{\\frac{T}{2}}\\sigma^TK}\\sum_{k=1}^{K}\\exp\\{-\\sum^T_{j=1}\\{\\frac{[y_{j}-s(\\boldsymbol{\\theta}_k, \\mathbf{t}_j)]^2}{2\\sigma^2}\\}\\} \\\\\n",
    "\\end{split}\n",
    "\\end{equation}$$"
   ]
  },
  {
   "cell_type": "markdown",
   "metadata": {},
   "source": [
    "Define function $F_2$($\\mathbf{t}$, $\\mathbf{y}$, $\\boldsymbol{\\mu}$, $N$, $\\cdots$) for future sampling $\\boldsymbol{\\mu}$ from $\\boldsymbol{\\mu} | \\mathbf{y}$. \n",
    "\n",
    "$\\tiny\\bullet$ $N$: the sampling size for $(\\boldsymbol{\\Sigma}, \\sigma^{-2})$.\n",
    "\n",
    "Note that \n",
    "\n",
    "$$f(\\boldsymbol{\\mu}, \\mathbf{y}) \\propto \\int f(\\mathbf{y}, \\boldsymbol{\\mu}, \\boldsymbol{\\Sigma}^{-1}, \\sigma^{-2})d\\boldsymbol{\\Sigma}^{-1}d\\sigma^{-2} = \\int f(\\mathbf{y}|\\boldsymbol{\\mu},\\boldsymbol{\\Sigma}^{-1}, \\sigma^{-2})f(\\boldsymbol{\\mu})f(\\boldsymbol{\\Sigma}^{-1})f(\\sigma^{-2})d\\boldsymbol{\\Sigma}^{-1}d\\sigma^{-2} = F_2(\\mathbf{t}, \\mathbf{y}, \\boldsymbol{\\mu}, \\cdots).$$\n",
    "\n",
    "Randomly sample $(\\boldsymbol{\\Sigma}^{-1}_1, \\sigma^{-2}_1)$, $(\\boldsymbol{\\Sigma}^{-1}_2, \\sigma^{-2}_2), \\; \\cdots, \\; (\\boldsymbol{\\Sigma}^{-1}_N, \\sigma^{-2}_N)$ from $f(\\boldsymbol{\\Sigma}^{-1})$, $f(\\sigma^{-2})$.\n",
    "\n",
    "$$f(\\boldsymbol{\\mu}, \\mathbf{y}) \\propto \\frac{f(\\boldsymbol{\\mu}) }{N}\\sum^N_{n=1} f(\\mathbf{y}|\\boldsymbol{\\mu},\\boldsymbol{\\Sigma}_n^{-1}, \\sigma_n^{-2})= F_2(\\mathbf{t}, \\mathbf{y}, \\boldsymbol{\\mu}, \\cdots) $$\n",
    "\n"
   ]
  },
  {
   "cell_type": "markdown",
   "metadata": {},
   "source": [
    "Define function $F_3(\\mathbf{t}, \\textit{hyper-parameters}, M, \\textit{num_mu}, \\textit{burnin}, \\textit{thinning})$.\n",
    "\n",
    "In $F_3$, given $\\mathbf{t}$ and all hyper-parameters, we cound generate $\\mathbf{y}_1$ to $\\mathbf{y}_M$. For each $\\mathbf{y}_i$, we are supposed to estimate $\\mathbf{Var}(\\mu_{2}|\\mathbf{y}_i)$ by calling $F_2$ to generate  a series of $\\boldsymbol{\\mu}$. Then the final $\\mathbf{E}[\\mathbf{Var}(\\mu_{2}|\\mathbf{y}_i)]$ can be estimated by \n",
    "$$\\frac{1}{M}\\sum^M_{m=1}\\hat{\\mathbf{Var}}(\\mu_{2}|\\mathbf{y}_m)$$\n",
    "\n",
    "$\\tiny\\bullet$ $M$: the sampling size for $\\mathbf{y}$; \n",
    "\n",
    "$\\tiny\\bullet$ $\\textit{num_mu}$: the number of $\\boldsymbol{\\mu}$ generated for each $\\mathbf{y}$. The number of samples for burn-in and thinning can be adjusted.\n",
    "\n",
    "\n",
    "\n",
    "How to use $F_2$ to generate corresponding $\\boldsymbol{\\mu}$ for each $\\mathbf{y}$? Use M-H algorithm.\n",
    "\n",
    "1. Given a $\\mathbf{y}$, $F_2(\\mathbf{y}, \\boldsymbol{\\mu}, \\cdots)$ is a function of $\\boldsymbol{\\mu}$.\n",
    "\n",
    "2. Generate $\\boldsymbol{\\mu}^{(0)} = \\boldsymbol{\\eta}$.\n",
    "\n",
    "Iterate the following steps until obtaining enough $\\boldsymbol{\\mu}$:\n",
    "\n",
    "3. Generate $\\mathbf{z} \\sim \\mathcal{N}(\\boldsymbol{\\mu}^{(i)}, \\Lambda)$, $r\\sim Unif(0, 1)$. Calculate \n",
    "$$\\tau = min\\{\\frac{F_2(\\mathbf{y}, \\mathbf{z}, \\cdots)}{F_2(\\mathbf{y}, \\mathbf{\\boldsymbol{\\mu}^{(i)}}, \\cdots)}, 1\\}.$$\n",
    "\n",
    "4. If $r \\leq \\tau, \\;\\boldsymbol{\\mu}^{(i+1)} = \\mathbf{z}$, else $\\boldsymbol{\\mu}^{(i+1)} = \\boldsymbol{\\mu}^{(i)} $."
   ]
  },
  {
   "cell_type": "code",
   "execution_count": null,
   "metadata": {
    "collapsed": true
   },
   "outputs": [],
   "source": []
  }
 ],
 "metadata": {
  "kernelspec": {
   "display_name": "Python 3",
   "language": "python",
   "name": "python3"
  },
  "language_info": {
   "codemirror_mode": {
    "name": "ipython",
    "version": 3
   },
   "file_extension": ".py",
   "mimetype": "text/x-python",
   "name": "python",
   "nbconvert_exporter": "python",
   "pygments_lexer": "ipython3",
   "version": "3.7.4"
  }
 },
 "nbformat": 4,
 "nbformat_minor": 2
}
